{
 "cells": [
  {
   "cell_type": "markdown",
   "metadata": {
    "_cell_guid": "aac1eb7a-6eb0-4239-bf0c-7edf5dd242a1",
    "_uuid": "56f92656487e77f60088d9afe9969a878ac1ead5"
   },
   "source": [
    "<table>\n",
    "    <tr>\n",
    "        <td>\n",
    "        <center>\n",
    "        <font size=\"+1\">If you haven't used BigQuery datasets on Kaggle previously, check out the <a href = \"https://www.kaggle.com/rtatman/sql-scavenger-hunt-handbook/\">Scavenger Hunt Handbook</a> kernel to get started.</font>\n",
    "        </center>\n",
    "        </td>\n",
    "    </tr>\n",
    "</table>\n",
    "\n",
    "___ \n",
    "\n",
    "## Previous days:\n",
    "\n",
    "* [**Day 1:** SELECT, FROM & WHERE](https://www.kaggle.com/rtatman/sql-scavenger-hunt-day-1/)\n",
    "\n",
    "____\n"
   ]
  },
  {
   "cell_type": "markdown",
   "metadata": {
    "_cell_guid": "2fc58cbb-15ec-42e5-8f81-ca4cba5db07c",
    "_uuid": "8710f8a626efbd27c8e53b723e97813fdd388822"
   },
   "source": [
    "# GROUP BY... HAVING and COUNT\n",
    "\n",
    "Now that we know how to select the content of a column, we're ready to learn how to group your data and count things within those groups. This can help you answer questions like: \n",
    "\n",
    "* How many of each kind of fruit has our store sold?\n",
    "* How many species of animal has the vet office treated?\n",
    "\n",
    "To do this, we're going to learn about three new techniques: GROUP BY, HAVING and COUNT. Once again, we're going to use this 100% made up table of information on various pets, which has three columns: one with the unique ID number for each pet, one with the name of the pet and one with the species of the animal (rabbit, cat or dog). \n",
    "\n",
    "![](https://i.imgur.com/Ef4Puo3.png)\n",
    "\n",
    "### COUNT\n",
    "___\n",
    "\n",
    "COUNT(), as you may have guessed from the name, returns a count of things. If you pass it the name of a column, it will return the number of entries in that column. So if we SELECT the COUNT() of the ID column, it will return the number of ID's in that column.\n",
    "\n",
    "    SELECT COUNT(ID)\n",
    "    FROM `bigquery-public-data.pet_records.pets`\n",
    "    \n",
    "This query, based on the table above, will return 4 because there are 4 ID's in this table.\n",
    " \n",
    "### GROUP BY\n",
    "___\n",
    "\n",
    "GROUP BY takes the name of one or more column and tells SQL that we want to treat rows that have the same value in that column as a single group when we apply aggregate functions like COUNT().\n",
    "\n",
    "> An **aggregate function** takes in many values and returns one. Here, we're learning about COUNT() but there are other aggregate functions like SUM() and AVERAGE().\n",
    "\n",
    "Note that because it tells SQL how to apply aggregate functions, it doesn't make sense to use GROUP BY without something like COUNT(). \n",
    "\n",
    "Let's look at an example. We want to know how many of each type of animal we have in our table. We can get this information by using GROUP BY to group together rows that have the same value in the “Animal” column, while using COUNT() to find out how many ID's we have in each group. You can see the general idea in this image:\n",
    "\n",
    "![](https://i.imgur.com/MFRhycu.png)\n",
    "\n",
    "The query that will get us this information looks like this:\n",
    "\n",
    "    SELECT Animal, COUNT(ID)\n",
    "    FROM `bigquery-public-data.pet_records.pets`\n",
    "    GROUP BY Animal\n",
    "\n",
    "This query will return a table with two columns (Animal & COUNT(ID)) three rows (one for each distinct Animal). \n",
    "\n",
    "One thing to note is that if you SELECT a column that you don't pass to 1) GROUP BY or 2) use as input to an aggregate function, you'll get an error. So this query won't work, because the Name column isn't either passed to either an aggregate function or a GROUP BY clause:\n",
    "\n",
    "    # NOT A VALID QUERY! \"Name\" isn't passed to GROUP BY\n",
    "    # or an aggregate function\n",
    "    SELECT Name, Animal, COUNT(ID)\n",
    "    FROM `bigquery-public-data.pet_records.pets`\n",
    "    GROUP BY Animal\n",
    "    \n",
    "If make this error, you'll get the error message `SELECT list expression references column (column's name) which is neither grouped nor aggregated at`.\n",
    "\n",
    "### GROUP BY ... HAVING\n",
    "___\n",
    "\n",
    "Another option you have when using GROUP BY is to specify that you want to ignore groups that don't meet certain criteria. So this query, for example, will only include groups that have more than one ID in them:\n",
    "\n",
    "    SELECT Animal, COUNT(ID)\n",
    "    FROM `bigquery-public-data.pet_records.pets`\n",
    "    GROUP BY Animal\n",
    "    HAVING COUNT(ID) > 1\n",
    "\n",
    "The only group that this query will return information on is the one in the cells highlighted in blue in this figure:\n",
    "\n",
    "![](https://i.imgur.com/8xutHzn.png)\n",
    "\n",
    "As a result, this query will return a table with only one row, since this there only one group remaining. It will have two columns: one for \"Animal\", which will have \"Cat\" in it, and one for COUNT(ID), which will have 2 in it. "
   ]
  },
  {
   "cell_type": "markdown",
   "metadata": {
    "_cell_guid": "2e2563a2-5b9d-42a4-8fa3-da4d4150b24d",
    "_uuid": "0482e52934a735a43d562fe7beeabb85fe70e338"
   },
   "source": [
    "## Example: Which Hacker News comments generated the most discussion?\n",
    "___\n",
    "\n",
    "Now we're ready to work through an example on a real dataset. Today, we're going to be using the Hacker News dataset, which contains information on stories & comments from the Hacker News social networking site. I want to know which comments on the site generated the most replies.\n",
    "\n",
    "First, just like yesterday, we need to get our environment set up. I already know that I want the \"comments\" table, so I'm going to look at the first couple of rows of that to get started."
   ]
  },
  {
   "cell_type": "code",
   "execution_count": null,
   "metadata": {
    "_cell_guid": "9a26e7db-812d-4fbb-b457-e09d323af127",
    "_uuid": "ab40ebc98c64c78df9a11d922bbc23573a43aefe",
    "collapsed": true
   },
   "outputs": [],
   "source": [
    "# import package with helper functions \n",
    "import bq_helper\n",
    "\n",
    "# create a helper object for this dataset\n",
    "hacker_news = bq_helper.BigQueryHelper(active_project=\"bigquery-public-data\",\n",
    "                                   dataset_name=\"hacker_news\")\n",
    "\n",
    "# print the first couple rows of the \"comments\" table\n",
    "hacker_news.head(\"comments\")"
   ]
  },
  {
   "cell_type": "markdown",
   "metadata": {
    "_cell_guid": "c4cf499d-a495-4717-a390-523107b3e1b2",
    "_uuid": "e70b02fc205ca45859a8520c211e11e3f46a3811"
   },
   "source": [
    "By looking at the documentation, I learned that the \"parent\" column has information on the comment that each comment was a reply to and the \"id\" column has the unique id used to identify each comment. So I can group by the \"parent\" column and count the \"id\" column in order to figure out the number of comments that were made as responses to a specific comment. \n",
    "\n",
    "Because I'm more interested in popular comments than unpopular comments, I'm also only going to return the groups that have more than ten id's in them. In other words, I'm only going to look at comments that had more than ten comment replies to them."
   ]
  },
  {
   "cell_type": "code",
   "execution_count": null,
   "metadata": {
    "_cell_guid": "787efd2f-8f1e-4804-982c-4cd86888c56f",
    "_uuid": "42f5bfb36cba82ccf9250a9c71077ce4154b4a32",
    "collapsed": true
   },
   "outputs": [],
   "source": [
    "# query to pass to \n",
    "query = \"\"\"SELECT parent, COUNT(id)\n",
    "            FROM `bigquery-public-data.hacker_news.comments`\n",
    "            GROUP BY parent\n",
    "            HAVING COUNT(id) > 10\n",
    "        \"\"\""
   ]
  },
  {
   "cell_type": "markdown",
   "metadata": {
    "_cell_guid": "baf936ce-7334-4038-9c6a-d2a8d2d4d8e4",
    "_uuid": "b16b54b3e2d1b478f9179d6e73f0660c6aa973d4"
   },
   "source": [
    "Now that our query is ready, let's run it (safely!) and store the results in a dataframe: "
   ]
  },
  {
   "cell_type": "code",
   "execution_count": null,
   "metadata": {
    "_cell_guid": "b37cf4b8-1d54-456b-9e52-8e139b166a6e",
    "_uuid": "ecde0a65fad06ef5d22d896484d8cbe05f874e12",
    "collapsed": true
   },
   "outputs": [],
   "source": [
    "# the query_to_pandas_safe method will cancel the query if\n",
    "# it would use too much of your quota, with the limit set \n",
    "# to 1 GB by default\n",
    "popular_stories = hacker_news.query_to_pandas_safe(query)"
   ]
  },
  {
   "cell_type": "markdown",
   "metadata": {
    "_cell_guid": "965b0a34-170d-4583-9ea7-abce1db8dd15",
    "_uuid": "d7f9774939c28ced59e167dc10de0daf7d357ba8"
   },
   "source": [
    "And, just like yesterday, we have a dataframe we can treat like any other data frame:"
   ]
  },
  {
   "cell_type": "code",
   "execution_count": null,
   "metadata": {
    "_cell_guid": "870d6747-9285-4d01-b987-fea070f6b84a",
    "_uuid": "cd43192ab15800fd1d93988fe28f6155c1a59b12",
    "collapsed": true
   },
   "outputs": [],
   "source": [
    "popular_stories.head()"
   ]
  },
  {
   "cell_type": "markdown",
   "metadata": {
    "_cell_guid": "32055a03-ead5-4603-ac5e-d7faf25b7ffe",
    "_uuid": "eaf762f2a3af36758970eb1bb2f3f0d347059406"
   },
   "source": [
    "Looks good! From here I could do whatever further analysis or visualization I'd like. \n",
    "\n",
    "> **Why is the column with the COUNT() data called f0_**? It's called this because COUNT() is the first (and in our case, only) aggregate function we used in this query. If we'd used a second one, it would be called \"f1\\_\", the third would be called \"f2\\_\", and so on. We'll learn how to name the output of aggregate functions later this week.\n",
    "\n",
    "And that should be all you need to get started writing your own kernels with GROUP BY... WHERE and COUNT!"
   ]
  },
  {
   "cell_type": "markdown",
   "metadata": {
    "_cell_guid": "fda0a223-5fd5-4524-a402-ecaef2905fa0",
    "_kg_hide-output": true,
    "_uuid": "654d2baeecb8757e10d02a63ec6cc63fe2df2339"
   },
   "source": [
    "# Scavenger hunt\n",
    "___\n",
    "\n",
    "Now it's your turn! Here's the questions I would like you to get the data to answer:\n",
    "\n",
    "* How many stories (use the \"id\" column) are there are each type in the full table?\n",
    "* How many comments have been deleted? (If a comment was deleted the \"deleted\" column in the comments table will have the value \"True\".)\n",
    "* **Optional extra credit**: read about [aggregate functions other than COUNT()](https://cloud.google.com/bigquery/docs/reference/standard-sql/functions-and-operators#aggregate-functions) and modify one of the queries you wrote above to use a different aggregate function.\n",
    "\n",
    "In order to answer these questions, you can fork this notebook by hitting the blue \"Fork Notebook\" at the very top of this page (you may have to scroll up). \"Forking\" something is making a copy of it that you can edit on your own without changing the original."
   ]
  },
  {
   "cell_type": "code",
   "execution_count": null,
   "metadata": {
    "_cell_guid": "a4f6aab8-ae9b-4123-87e9-94aadf6a757c",
    "_uuid": "c346ce030dd69d682f91756fc9185ae7845066fb",
    "collapsed": true
   },
   "outputs": [],
   "source": [
    "# Your code goes here :)\n",
    "\n"
   ]
  },
  {
   "cell_type": "markdown",
   "metadata": {
    "_cell_guid": "a2313b92-8f03-41e3-a28b-99a0f54397b2",
    "_uuid": "b0f920e6fc8e371f7b4ad10ff7015526552a19d5"
   },
   "source": [
    "Please feel free to ask any questions you have in this notebook or in the [Q&A forums](https://www.kaggle.com/questions-and-answers)! \n",
    "\n",
    "Also, if you want to share or get comments on your kernel, remember you need to make it public first! You can change the visibility of your kernel under the \"Settings\" tab, on the right half of your screen."
   ]
  }
 ],
 "metadata": {
  "kernelspec": {
   "display_name": "Python 3",
   "language": "python",
   "name": "python3"
  },
  "language_info": {
   "codemirror_mode": {
    "name": "ipython",
    "version": 3
   },
   "file_extension": ".py",
   "mimetype": "text/x-python",
   "name": "python",
   "nbconvert_exporter": "python",
   "pygments_lexer": "ipython3",
   "version": "3.6.3"
  },
  "toc": {
   "nav_menu": {},
   "number_sections": true,
   "sideBar": true,
   "skip_h1_title": false,
   "title_cell": "Table of Contents",
   "title_sidebar": "Contents",
   "toc_cell": false,
   "toc_position": {},
   "toc_section_display": true,
   "toc_window_display": false
  }
 },
 "nbformat": 4,
 "nbformat_minor": 1
}
